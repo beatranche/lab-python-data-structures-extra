{
 "cells": [
  {
   "cell_type": "markdown",
   "metadata": {},
   "source": [
    "# Lab | Data Structures "
   ]
  },
  {
   "cell_type": "markdown",
   "metadata": {},
   "source": [
    "## Exercise 1: Working with Lists"
   ]
  },
  {
   "cell_type": "markdown",
   "metadata": {},
   "source": [
    "Imagine you are building a program for a teacher who wants to track the progress of their students throughout the semester. The teacher wants to input the grades of each student one by one, and get a summary of their performance. There are in total 5 students. You are tasked with building the program that will allow the teacher to do this easily.\n",
    "\n",
    "The program will prompt the teacher to enter the grades of each student. Once the teacher has entered all the grades, the program will calculate the total sum of the grades and display it on the screen. Then, the program will create a new list by selecting only the grades of the first, third, and fifth students entered by the teacher, and sort them in ascending order.\n",
    "\n",
    "Finally, the program will print out the new list, along with its length and the number of occurrences of the score 5 in the list. This will give the teacher a good overview of the performance of the selected students, and help them identify any potential issues early on."
   ]
  },
  {
   "cell_type": "markdown",
   "metadata": {},
   "source": [
    "*Hint:*\n",
    "- You can use the input() function to ask the user to enter their information.\n",
    "- Look for list methods to perform the tasks. \n",
    "- Remember, it is possible to get a part of the sequence using:\n",
    "\n",
    "    ```python\n",
    "    sequence[x:y:z]\n",
    "    ```\n",
    "    where x, y, z are integers.\n",
    "\n",
    "    The above returns a new sequence with the following characteristics:\n",
    "\n",
    "    - A sequence with the same type as the original (a slice of a list is a list, a slice of a tuple is a tuple, and a slice of a string is a string).\n",
    "    - A sequence with elements from `sequence [x]` to `sequence [y-1]` (does not include a sequence [y]). By skipping `z` elements each time, it can be omitted if ` z = 1`.\n"
   ]
  },
  {
   "cell_type": "markdown",
   "metadata": {},
   "source": [
    "*Recommended External Resources:*\n",
    "- *[Python Lists](https://www.w3schools.com/python/python_lists.asp)*\n",
    "- *[Python List Methods](https://www.w3schools.com/python/python_ref_list.asp)*\n",
    "- *[Python Built-in Functions](https://docs.python.org/3/library/functions.html)*\n"
   ]
  },
  {
   "cell_type": "code",
   "execution_count": 2,
   "metadata": {},
   "outputs": [
    {
     "name": "stdout",
     "output_type": "stream",
     "text": [
      "\n",
      "Total sum of all grades: 15\n",
      "Selected grades (1st, 3rd, 5th students) sorted: [1, 3, 5]\n",
      "Length of the new list: 3\n",
      "Number of occurrences of the grade 5 in the new list: 1\n"
     ]
    }
   ],
   "source": [
    "# Initialize an empty list to store the grades\n",
    "grades = []\n",
    "\n",
    "# Loop to get the grades of 5 students\n",
    "for i in range(1, 6):  # Iterating from 1 to 5 for 5 students\n",
    "    grade = int(input(f\"Enter the grade for student {i}: \"))\n",
    "    grades.append(grade)\n",
    "\n",
    "# Calculate the total sum of all the grades\n",
    "total_sum = sum(grades)\n",
    "\n",
    "# Display the total sum of grades\n",
    "print(f\"\\nTotal sum of all grades: {total_sum}\")\n",
    "\n",
    "# Select the grades of the 1st, 3rd, and 5th students\n",
    "selected_grades = grades[0:5:2]  # This slices and selects the 1st, 3rd, and 5th grades\n",
    "\n",
    "# Sort the selected grades in ascending order\n",
    "selected_grades.sort()\n",
    "\n",
    "# Print the sorted list of selected grades\n",
    "print(f\"Selected grades (1st, 3rd, 5th students) sorted: {selected_grades}\")\n",
    "\n",
    "# Print the length of the new list\n",
    "print(f\"Length of the new list: {len(selected_grades)}\")\n",
    "\n",
    "# Count the number of occurrences of the grade 5 in the new list\n",
    "occurrences_of_5 = selected_grades.count(5)\n",
    "\n",
    "# Print the number of occurrences of grade 5\n",
    "print(f\"Number of occurrences of the grade 5 in the new list: {occurrences_of_5}\")"
   ]
  },
  {
   "cell_type": "markdown",
   "metadata": {},
   "source": [
    "## Exercise 2: Tuples"
   ]
  },
  {
   "cell_type": "markdown",
   "metadata": {},
   "source": [
    "Imagine you're running a fruit stand and want to keep track of your inventory. Write a Python program that does the following:\n",
    "\n",
    "- Initializes a tuple with 5 different types of fruit.\n",
    "- Outputs the first and last elements of the tuple, so you can see the full range of fruits the store offers.\n",
    "- Replaces the second element of the tuple with a new fruit that the store has recently received, and prints the updated tuple so you can see the changes.\n",
    "- Concatenates a new tuple containing 2 additional fruits to the original tuple, so you can add them to the store inventory, and prints the resulting tuple to see the updated inventory.\n",
    "- Splits the resulting tuple into 2 tuples of 3 elements each (the first tuple contains the first 3 elements, and the second tuple contains the last 3 elements), so you can organize the inventory more effectively.\n",
    "- Combines the 2 tuples from the previous step with the original tuple into a new tuple, and prints the resulting tuple and its length, so you can see the final inventory after all the changes."
   ]
  },
  {
   "cell_type": "markdown",
   "metadata": {},
   "source": [
    "*Recommended External Resources: [Python Tuples Examples and Methods](https://www.w3schools.com/python/python_tuples.asp)*\n",
    "\n"
   ]
  },
  {
   "cell_type": "code",
   "execution_count": 3,
   "metadata": {},
   "outputs": [
    {
     "name": "stdout",
     "output_type": "stream",
     "text": [
      "First fruit: apple\n",
      "Last fruit: mango\n",
      "Updated tuple: ('apple', 'kiwi', 'orange', 'grape', 'mango')\n",
      "Tuple after adding new fruits: ('apple', 'kiwi', 'orange', 'grape', 'mango', 'pineapple', 'blueberry')\n",
      "First tuple: ('apple', 'kiwi', 'orange')\n",
      "Second tuple: ('mango', 'pineapple', 'blueberry')\n",
      "Final tuple: ('apple', 'kiwi', 'orange', 'mango', 'pineapple', 'blueberry', 'apple', 'kiwi', 'orange', 'grape', 'mango', 'pineapple', 'blueberry')\n",
      "Length of the final tuple: 13\n"
     ]
    }
   ],
   "source": [
    "# Initialize a tuple with 5 different types of fruit\n",
    "fruit_tuple = (\"apple\", \"banana\", \"orange\", \"grape\", \"mango\")\n",
    "\n",
    "# Output the first and last elements of the tuple\n",
    "print(f\"First fruit: {fruit_tuple[0]}\")\n",
    "print(f\"Last fruit: {fruit_tuple[-1]}\")\n",
    "\n",
    "# Replace the second element of the tuple with a new fruit\n",
    "# Tuples are immutable, so we'll need to convert to a list and back to a tuple\n",
    "fruit_list = list(fruit_tuple)\n",
    "fruit_list[1] = \"kiwi\"  # Replacing the second element\n",
    "fruit_tuple = tuple(fruit_list)\n",
    "\n",
    "# Print the updated tuple\n",
    "print(f\"Updated tuple: {fruit_tuple}\")\n",
    "\n",
    "# Concatenate a new tuple containing 2 additional fruits to the original tuple\n",
    "new_fruits = (\"pineapple\", \"blueberry\")\n",
    "fruit_tuple = fruit_tuple + new_fruits\n",
    "\n",
    "# Print the resulting tuple after concatenation\n",
    "print(f\"Tuple after adding new fruits: {fruit_tuple}\")\n",
    "\n",
    "# Split the resulting tuple into 2 tuples of 3 elements each\n",
    "tuple1 = fruit_tuple[:3]  # First 3 elements\n",
    "tuple2 = fruit_tuple[-3:]  # Last 3 elements\n",
    "\n",
    "# Print the two new tuples\n",
    "print(f\"First tuple: {tuple1}\")\n",
    "print(f\"Second tuple: {tuple2}\")\n",
    "\n",
    "# Combine the 2 tuples from the previous step with the original tuple\n",
    "final_tuple = tuple1 + tuple2 + fruit_tuple\n",
    "\n",
    "# Print the resulting tuple and its length\n",
    "print(f\"Final tuple: {final_tuple}\")\n",
    "print(f\"Length of the final tuple: {len(final_tuple)}\")"
   ]
  },
  {
   "cell_type": "markdown",
   "metadata": {},
   "source": [
    "## Exercise 3: Sets"
   ]
  },
  {
   "cell_type": "markdown",
   "metadata": {},
   "source": [
    "Imagine you are a data analyst working for a literature museum. Your manager has given you two poems to analyze, and she wants you to write a Python program to extract useful information from them.\n",
    "\n",
    "Your program should:\n",
    "\n",
    "- Create two sets, one for each poem, containing all unique words in both poems (ignoring case and punctuation).\n",
    "- Print the number of unique words in each set.\n",
    "- Identify and print the unique words present in the first poem but not in the second one.\n",
    "- Identify and print the unique words present in the second poem but not in the first one.\n",
    "- Identify and print the unique words present in both poems and print it in alphabetical order."
   ]
  },
  {
   "cell_type": "markdown",
   "metadata": {},
   "source": [
    "*Recommended External Resources:*\n",
    "- *[Python Sets](https://www.w3schools.com/python/python_sets.asp)* \n",
    "- *[Python Set Methods](https://www.w3schools.com/python/python_ref_set.asp)*\n",
    "- *[Python String Methods](https://www.w3schools.com/python/python_ref_string.asp)*\n"
   ]
  },
  {
   "cell_type": "code",
   "execution_count": 6,
   "metadata": {},
   "outputs": [],
   "source": [
    "poem = \"\"\"Some say the world will end in fire,\n",
    "Some say in ice.\n",
    "From what I’ve tasted of desire\n",
    "I hold with those who favor fire.\n",
    "But if it had to perish twice,\n",
    "I think I know enough of hate\n",
    "To say that for destruction ice\n",
    "Is also great\n",
    "And would suffice.\"\"\"\n",
    "\n",
    "new_poem = \"\"\"Some say life is but a dream,\n",
    "Some say it's a test.\n",
    "From what I've seen and what I deem,\n",
    "I side with those who see it as a quest.\n",
    "\n",
    "But if it had to end today,\n",
    "I think I know enough of love,\n",
    "To say that though it fades away,\n",
    "It's still what we are made of.\"\"\""
   ]
  },
  {
   "cell_type": "code",
   "execution_count": 9,
   "metadata": {},
   "outputs": [
    {
     "name": "stdout",
     "output_type": "stream",
     "text": [
      "Number of unique words in the first poem: 41\n",
      "Number of unique words in the second poem: 42\n",
      "\n",
      "Unique words in the first poem but not in the second: {'tasted', 'fire', 'destruction', 'desire', 'will', 'for', 'favor', 'great', 'in', 'hold', 'the', 'hate', 'also', 'perish', 'would', 'world', 'twice', 'suffice', 'ice'}\n",
      "\n",
      "Unique words in the second poem but not in the first: {'today', 'we', 'a', 'test', 'see', 'its', 'though', 'seen', 'are', 'still', 'side', 'deem', 'life', 'quest', 'away', 'dream', 'fades', 'made', 'as', 'love'}\n",
      "\n",
      "Unique words present in both poems (alphabetical order): ['and', 'but', 'end', 'enough', 'from', 'had', 'i', 'if', 'is', 'it', 'ive', 'know', 'of', 'say', 'some', 'that', 'think', 'those', 'to', 'what', 'who', 'with']\n"
     ]
    }
   ],
   "source": [
    "\n",
    "import re\n",
    "import string\n",
    "\n",
    "# Function to clean and extract unique words from a poem\n",
    "def extract_unique_words(text):\n",
    "    # Remove punctuation using regular expressions and convert to lowercase\n",
    "    text_cleaned = re.sub(r'[^\\w\\s]', '', text).lower()\n",
    "    # Split the text into words and create a set of unique words\n",
    "    unique_words = set(text_cleaned.split())\n",
    "    return unique_words\n",
    "\n",
    "# Extract unique words from both poems\n",
    "poem_words = extract_unique_words(poem)\n",
    "new_poem_words = extract_unique_words(new_poem)\n",
    "\n",
    "# Print the number of unique words in each set\n",
    "print(f\"Number of unique words in the first poem: {len(poem_words)}\")\n",
    "print(f\"Number of unique words in the second poem: {len(new_poem_words)}\")\n",
    "\n",
    "# Identify and print the unique words present in the first poem but not in the second one\n",
    "unique_to_poem = poem_words - new_poem_words\n",
    "print(f\"\\nUnique words in the first poem but not in the second: {unique_to_poem}\")\n",
    "\n",
    "# Identify and print the unique words present in the second poem but not in the first one\n",
    "unique_to_new_poem = new_poem_words - poem_words\n",
    "print(f\"\\nUnique words in the second poem but not in the first: {unique_to_new_poem}\")\n",
    "\n",
    "# Identify and print the unique words present in both poems in alphabetical order\n",
    "common_words = sorted(poem_words & new_poem_words)\n",
    "print(f\"\\nUnique words present in both poems (alphabetical order): {common_words}\")"
   ]
  },
  {
   "cell_type": "markdown",
   "metadata": {},
   "source": [
    "## Exercise 4: Dictionaries"
   ]
  },
  {
   "cell_type": "markdown",
   "metadata": {},
   "source": [
    "Consider the following dictionary of students with their scores in different subjects. One of the students, Bob, has complained about his score in Philosophy and, after reviewing it, the teacher has decided to update his score to 100. Write a Python program that updates Bob's score in Philosophy to 100 in the dictionary."
   ]
  },
  {
   "cell_type": "markdown",
   "metadata": {},
   "source": [
    "*Recommended External Resources: [Python Dictionary Examples and Methods](https://www.w3schools.com/python/python_dictionaries.asp)*\n"
   ]
  },
  {
   "cell_type": "code",
   "execution_count": 51,
   "metadata": {},
   "outputs": [],
   "source": [
    "grades = {'Alice': {'Physics': 75, 'Math': 85, 'Chemistry': 60, 'Philosophy': 90}, 'Bob': {'Physics': 75, 'Math': 85, 'Chemistry': 60, 'Philosophy': 90}}"
   ]
  },
  {
   "cell_type": "code",
   "execution_count": null,
   "metadata": {},
   "outputs": [],
   "source": [
    "# Your code here"
   ]
  },
  {
   "cell_type": "markdown",
   "metadata": {},
   "source": [
    "## Bonus"
   ]
  },
  {
   "cell_type": "markdown",
   "metadata": {},
   "source": [
    "1. Below are the two lists. Write a Python program to convert them into a dictionary in a way that item from list1 is the key and item from list2 is the value."
   ]
  },
  {
   "cell_type": "markdown",
   "metadata": {},
   "source": [
    "*Hint: Use the zip() function. This function takes two or more iterables (like list, dict, string), aggregates them in a tuple, and returns it. Afterwards, you can use a function that turns a tuple into a dictionary.*"
   ]
  },
  {
   "cell_type": "markdown",
   "metadata": {},
   "source": [
    "*Recommended External Resources: [Python Zip Function](https://www.w3schools.com/python/ref_func_zip.asp)*\n"
   ]
  },
  {
   "cell_type": "code",
   "execution_count": null,
   "metadata": {},
   "outputs": [],
   "source": [
    "keys = ['Physics', 'Math', 'Chemistry', 'Philosophy']\n",
    "values = [75, 85, 60,90]\n",
    "\n",
    "# Your code here"
   ]
  },
  {
   "cell_type": "markdown",
   "metadata": {},
   "source": [
    "2. Get the subject with the minimum score from the previous dictionary."
   ]
  },
  {
   "cell_type": "markdown",
   "metadata": {},
   "source": [
    "*Hint: Use the built-in function min(). Read about the parameter key.*"
   ]
  },
  {
   "cell_type": "markdown",
   "metadata": {},
   "source": [
    "\n",
    "*Recommended External Resources:*\n",
    "- *[Python Min Function Official Documentation](https://docs.python.org/3.8/library/functions.html#min)*\n",
    "- *[How to use key function in max and min in Python](https://medium.com/analytics-vidhya/how-to-use-key-function-in-max-and-min-in-python-1fdbd661c59c)*"
   ]
  },
  {
   "cell_type": "code",
   "execution_count": null,
   "metadata": {},
   "outputs": [],
   "source": [
    "# Your code here"
   ]
  }
 ],
 "metadata": {
  "kernelspec": {
   "display_name": "Python 3 (ipykernel)",
   "language": "python",
   "name": "python3"
  },
  "language_info": {
   "codemirror_mode": {
    "name": "ipython",
    "version": 3
   },
   "file_extension": ".py",
   "mimetype": "text/x-python",
   "name": "python",
   "nbconvert_exporter": "python",
   "pygments_lexer": "ipython3",
   "version": "3.12.4"
  }
 },
 "nbformat": 4,
 "nbformat_minor": 4
}
